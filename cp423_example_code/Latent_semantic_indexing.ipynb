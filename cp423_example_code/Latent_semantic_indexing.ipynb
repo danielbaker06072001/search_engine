{
  "nbformat": 4,
  "nbformat_minor": 0,
  "metadata": {
    "colab": {
      "name": "Latent_semantic_indexing.ipynb",
      "provenance": [],
      "collapsed_sections": []
    },
    "kernelspec": {
      "name": "python3",
      "display_name": "Python 3"
    },
    "language_info": {
      "name": "python"
    }
  },
  "cells": [
    {
      "cell_type": "code",
      "execution_count": 1,
      "metadata": {
        "colab": {
          "base_uri": "https://localhost:8080/"
        },
        "id": "_b6qhWsdlLbt",
        "outputId": "e9e0b5f6-c200-4d57-d74e-e8ea5d21b94e"
      },
      "outputs": [
        {
          "output_type": "stream",
          "name": "stdout",
          "text": [
            "Requirement already satisfied: gensim in /usr/local/lib/python3.7/dist-packages (3.6.0)\n",
            "Requirement already satisfied: scipy>=0.18.1 in /usr/local/lib/python3.7/dist-packages (from gensim) (1.4.1)\n",
            "Requirement already satisfied: smart-open>=1.2.1 in /usr/local/lib/python3.7/dist-packages (from gensim) (5.2.1)\n",
            "Requirement already satisfied: numpy>=1.11.3 in /usr/local/lib/python3.7/dist-packages (from gensim) (1.21.5)\n",
            "Requirement already satisfied: six>=1.5.0 in /usr/local/lib/python3.7/dist-packages (from gensim) (1.15.0)\n"
          ]
        }
      ],
      "source": [
        "!pip install gensim\n",
        "import pandas as pd\n",
        "import gensim\n",
        "from gensim.parsing.preprocessing import preprocess_documents\n",
        "import numpy as np"
      ]
    },
    {
      "cell_type": "code",
      "source": [
        "!wget https://storage.googleapis.com/pet-detect-239118/text_retrieval/archive.zip archive.zip"
      ],
      "metadata": {
        "colab": {
          "base_uri": "https://localhost:8080/"
        },
        "id": "Y-WH0YTUlY3a",
        "outputId": "db02f78d-9de3-432a-a9c0-6342aa256815"
      },
      "execution_count": 2,
      "outputs": [
        {
          "output_type": "stream",
          "name": "stdout",
          "text": [
            "--2022-03-14 18:20:36--  https://storage.googleapis.com/pet-detect-239118/text_retrieval/archive.zip\n",
            "Resolving storage.googleapis.com (storage.googleapis.com)... 172.253.63.128, 172.217.2.112, 142.251.16.128, ...\n",
            "Connecting to storage.googleapis.com (storage.googleapis.com)|172.253.63.128|:443... connected.\n",
            "HTTP request sent, awaiting response... 200 OK\n",
            "Length: 31376869 (30M) [application/x-zip-compressed]\n",
            "Saving to: ‘archive.zip’\n",
            "\n",
            "archive.zip         100%[===================>]  29.92M   153MB/s    in 0.2s    \n",
            "\n",
            "2022-03-14 18:20:36 (153 MB/s) - ‘archive.zip’ saved [31376869/31376869]\n",
            "\n",
            "--2022-03-14 18:20:36--  http://archive.zip/\n",
            "Resolving archive.zip (archive.zip)... failed: Name or service not known.\n",
            "wget: unable to resolve host address ‘archive.zip’\n",
            "FINISHED --2022-03-14 18:20:36--\n",
            "Total wall clock time: 0.4s\n",
            "Downloaded: 1 files, 30M in 0.2s (153 MB/s)\n"
          ]
        }
      ]
    },
    {
      "cell_type": "code",
      "source": [
        "from zipfile import ZipFile\n",
        "file_name = '/content/archive.zip'\n",
        "\n",
        "with ZipFile(file_name, 'r',) as zip:\n",
        "  zip.extractall()\n",
        "  print('Done!!')"
      ],
      "metadata": {
        "colab": {
          "base_uri": "https://localhost:8080/"
        },
        "id": "7UGdmjuxloMn",
        "outputId": "25047647-f397-435b-f08f-d222aae06a7f"
      },
      "execution_count": 3,
      "outputs": [
        {
          "output_type": "stream",
          "name": "stdout",
          "text": [
            "Done!!\n"
          ]
        }
      ]
    },
    {
      "cell_type": "markdown",
      "source": [
        "The Singular-Value Decomposition (SVD) is a matrix decomposition method for reducing a matrix to its constituent parts in order to make certain subsequent matrix calculations simpler. <p>\n",
        "\n",
        "The formula for SVD can be express as: \\begin{align}\n",
        "A = U Σ V^T\n",
        "\\end{align}\n",
        "Where A is the real m x n matrix to be decomposed, U is an m x m matrix, $Σ$  is an m x n diagonal matrix, and $V^T$ is the transpose of an n x n matrix.<p>\n",
        "The diagonal values in the $\\Sigma$ matrix are known as the singular values of the original matrix A. The columns of the U matrix are called the left-singular vectors of A, and the columns of V are called the right-singular vectors of A. <p>\n",
        "The SVD is calculated via iterative numerical methods. The SVD is used widely both in the calculation of other matrix operations, such as matrix inverse, but also as a data reduction method in machine learning. SVD can also be used in least squares linear regression, image compression, and denoising data."
      ],
      "metadata": {
        "id": "YzfK_5klMjlI"
      }
    },
    {
      "cell_type": "code",
      "source": [
        "# Singular-value decomposition\n",
        "from numpy import array\n",
        "from scipy.linalg import svd\n",
        "# define a matrix\n",
        "A = array([[1, 2, 3], [4, 5, 6], [7, 8, 9]])\n",
        "print(A)\n",
        "# SVD\n",
        "U, s, VT = svd(A)\n",
        "print(\"U matrix:\")\n",
        "print(U)\n",
        "print(\"Sigma matrix:\")\n",
        "print(s)\n",
        "print(\"V-transpose matrix:\")\n",
        "print(VT)"
      ],
      "metadata": {
        "colab": {
          "base_uri": "https://localhost:8080/"
        },
        "id": "-8OXdzE5PVkl",
        "outputId": "8fdf4020-6df4-479b-8847-a52d5336ae98"
      },
      "execution_count": 13,
      "outputs": [
        {
          "output_type": "stream",
          "name": "stdout",
          "text": [
            "[[1 2 3]\n",
            " [4 5 6]\n",
            " [7 8 9]]\n",
            "U matrix:\n",
            "[[-0.21483724  0.88723069  0.40824829]\n",
            " [-0.52058739  0.24964395 -0.81649658]\n",
            " [-0.82633754 -0.38794278  0.40824829]]\n",
            "Sigma matrix:\n",
            "[1.68481034e+01 1.06836951e+00 4.41842475e-16]\n",
            "V-transpose matrix:\n",
            "[[-0.47967118 -0.57236779 -0.66506441]\n",
            " [-0.77669099 -0.07568647  0.62531805]\n",
            " [-0.40824829  0.81649658 -0.40824829]]\n"
          ]
        }
      ]
    },
    {
      "cell_type": "markdown",
      "source": [
        "Here we only use movies with release year ≥ 2000 to save RAM"
      ],
      "metadata": {
        "id": "Re-8oQthmIkH"
      }
    },
    {
      "cell_type": "code",
      "source": [
        "df = pd.read_csv('/content/wiki_movie_plots_deduped.csv', sep=',')\n",
        "df = df[df['Release Year'] >= 2000]\n",
        "text_corpus = df['Plot'].values"
      ],
      "metadata": {
        "id": "uIFPiImVlR7Z"
      },
      "execution_count": 4,
      "outputs": []
    },
    {
      "cell_type": "code",
      "source": [
        "text_corpus.shape"
      ],
      "metadata": {
        "colab": {
          "base_uri": "https://localhost:8080/"
        },
        "id": "2_IaAdzTloZz",
        "outputId": "9c703ab0-e7fe-4ec0-b3d3-ad3dfb3e79cd"
      },
      "execution_count": 5,
      "outputs": [
        {
          "output_type": "execute_result",
          "data": {
            "text/plain": [
              "(12560,)"
            ]
          },
          "metadata": {},
          "execution_count": 5
        }
      ]
    },
    {
      "cell_type": "markdown",
      "source": [
        "use gensim.parsing.preprocessing.preprocess_documents can perform the following operations:\n",
        "\n",
        "\n",
        "*   strip_tags: returns a unicode string without tags,\n",
        "*   strip_punctuation: replaces punctuation characters with spaces,\n",
        "*   strip_multiple_whitespaces: removes non-alphabetic characters,\n",
        "*   strip_numeric: removes digits,\n",
        "*   remove_stopwords: removes stop words,\n",
        "*   strip_short: removes words with length lesser than 3,\n",
        "*   stem_text: transforms the document into lowercase and stems it\n",
        "\n",
        "\n",
        "\n",
        "\n",
        "\n",
        "\n",
        "\n"
      ],
      "metadata": {
        "id": "GHu65Xv7m0Tn"
      }
    },
    {
      "cell_type": "code",
      "source": [
        "processed_corpus = preprocess_documents(text_corpus)\n",
        "dictionary = gensim.corpora.Dictionary(processed_corpus)\n",
        "bow_corpus = [dictionary.doc2bow(text) for text in processed_corpus]"
      ],
      "metadata": {
        "id": "th9n0Omqmv5e"
      },
      "execution_count": 6,
      "outputs": []
    },
    {
      "cell_type": "markdown",
      "source": [
        "Get  the tfidf representation model"
      ],
      "metadata": {
        "id": "_SD3Ng71pPnF"
      }
    },
    {
      "cell_type": "code",
      "source": [
        "tfidf = gensim.models.TfidfModel(bow_corpus)"
      ],
      "metadata": {
        "id": "bvdv6e5emv8r"
      },
      "execution_count": 7,
      "outputs": []
    },
    {
      "cell_type": "markdown",
      "source": [
        "Transform the whole corpus via our model and index it, in preparation for similarity queries."
      ],
      "metadata": {
        "id": "sKO6SOivpUzm"
      }
    },
    {
      "cell_type": "code",
      "source": [
        "index = gensim.similarities.MatrixSimilarity(tfidf[bow_corpus])"
      ],
      "metadata": {
        "id": "N_t3IGB2n9wC"
      },
      "execution_count": 8,
      "outputs": []
    },
    {
      "cell_type": "code",
      "source": [
        "query = \"Infiltrate in minds and extract information through a shared dream world. Different levels of dreams\""
      ],
      "metadata": {
        "id": "qSVnhzJypyZL"
      },
      "execution_count": 9,
      "outputs": []
    },
    {
      "cell_type": "code",
      "source": [
        "new_doc = gensim.parsing.preprocessing.preprocess_string(query)\n",
        "new_vec = dictionary.doc2bow(new_doc)\n",
        "vec_bow_tfidf = tfidf[new_vec]\n",
        "sims = index[vec_bow_tfidf]\n",
        "for s in sorted(enumerate(sims), key=lambda item: -item[1])[:10]:\n",
        "    print(f\"{df['Title'].iloc[s[0]]} : {str(s[1])}\")"
      ],
      "metadata": {
        "colab": {
          "base_uri": "https://localhost:8080/"
        },
        "id": "XT1zCp7BpdLY",
        "outputId": "c64d6b30-9583-4613-a766-44f3b602dbf8"
      },
      "execution_count": 10,
      "outputs": [
        {
          "output_type": "stream",
          "name": "stdout",
          "text": [
            "Let's Dance : 0.19282113\n",
            "Dream : 0.19088349\n",
            "Inception : 0.18904062\n",
            "Swapner Din : 0.15743802\n",
            "Dancing Queen : 0.1458902\n",
            "Aalukkoru Aasai : 0.14180927\n",
            "The Good Night : 0.13072486\n",
            "Darwin : 0.12126312\n",
            "Popcorn : 0.11409524\n",
            "Days of Our Own : 0.11404269\n"
          ]
        }
      ]
    }
  ]
}